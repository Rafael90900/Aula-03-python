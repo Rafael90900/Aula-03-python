{
  "nbformat": 4,
  "nbformat_minor": 0,
  "metadata": {
    "colab": {
      "provenance": [],
      "authorship_tag": "ABX9TyMYT87U2Khmf/8LziK8JCaA",
      "include_colab_link": true
    },
    "kernelspec": {
      "name": "python3",
      "display_name": "Python 3"
    },
    "language_info": {
      "name": "python"
    }
  },
  "cells": [
    {
      "cell_type": "markdown",
      "metadata": {
        "id": "view-in-github",
        "colab_type": "text"
      },
      "source": [
        "<a href=\"https://colab.research.google.com/github/Rafael90900/Aula-03-python/blob/main/Aula03pyton.ipynb\" target=\"_parent\"><img src=\"https://colab.research.google.com/assets/colab-badge.svg\" alt=\"Open In Colab\"/></a>"
      ]
    },
    {
      "cell_type": "code",
      "execution_count": null,
      "metadata": {
        "colab": {
          "base_uri": "https://localhost:8080/"
        },
        "id": "CuSm3jf7kyqK",
        "outputId": "c16ad2fb-62b9-4d2d-b23f-d4e317c209e3"
      },
      "outputs": [
        {
          "output_type": "stream",
          "name": "stdout",
          "text": [
            "oi\n"
          ]
        }
      ],
      "source": [
        "print('oi')"
      ]
    },
    {
      "cell_type": "code",
      "source": [
        "a = 25\n",
        "b = 42\n",
        "\n",
        "print(a+b)\n",
        "print(a-b)\n",
        "print(a*b)\n",
        "print(a/b)\n",
        "print(a%b) #o resto da operação\n"
      ],
      "metadata": {
        "colab": {
          "base_uri": "https://localhost:8080/"
        },
        "id": "_kgV1D5ZlVpn",
        "outputId": "e2b9b1aa-e9c1-4026-9705-818be84f89a2"
      },
      "execution_count": null,
      "outputs": [
        {
          "output_type": "stream",
          "name": "stdout",
          "text": [
            "67\n",
            "-17\n",
            "1050\n",
            "0.5952380952380952\n",
            "25\n"
          ]
        }
      ]
    },
    {
      "cell_type": "code",
      "source": [
        "nome = input('Digite seu nome:')\n",
        "print('Olá,' + nome)"
      ],
      "metadata": {
        "colab": {
          "base_uri": "https://localhost:8080/"
        },
        "id": "L2wif3IIo_Tm",
        "outputId": "029c0471-a15d-43e1-ec2d-b84238a32a86"
      },
      "execution_count": null,
      "outputs": [
        {
          "output_type": "stream",
          "name": "stdout",
          "text": [
            "Digite seu nome:Rafael\n",
            "Olá,Rafael\n"
          ]
        }
      ]
    },
    {
      "cell_type": "code",
      "source": [
        "#Código para dizer idade\n",
        "anoNascimento = int(input('Digite o seu ano de nascimento!'))\n",
        "print('Sua idade é:',2023-anoNascimento)"
      ],
      "metadata": {
        "colab": {
          "base_uri": "https://localhost:8080/"
        },
        "id": "fQ0ZXfDHpd4O",
        "outputId": "1da00b0b-4d5b-4663-a219-9ed6df19db89"
      },
      "execution_count": null,
      "outputs": [
        {
          "output_type": "stream",
          "name": "stdout",
          "text": [
            "Digite o seu ano de nascimento!2005\n",
            "Sua idade é: 18\n"
          ]
        }
      ]
    },
    {
      "cell_type": "code",
      "source": [
        "#Solicita a altura e o peso de alguém, e retorna o IMC\n",
        "#IMC = peso / altura**2\n",
        "peso = float(input('Digite o peso!'))\n",
        "altura = float(input('Digite a altura!'))\n",
        "imc = peso/altura**2\n",
        "print('O IMC é:', imc)"
      ],
      "metadata": {
        "colab": {
          "base_uri": "https://localhost:8080/"
        },
        "id": "U2vzhIf7q162",
        "outputId": "441d46f8-1e17-432b-d571-ebe173747f7d"
      },
      "execution_count": null,
      "outputs": [
        {
          "output_type": "stream",
          "name": "stdout",
          "text": [
            "Digite o peso!68\n",
            "Digite a altura!1.79\n",
            "O IMC é: 21.22280827689523\n"
          ]
        }
      ]
    },
    {
      "cell_type": "code",
      "source": [
        "#Verificar se o número é par\n",
        "num = int(input('Digite um número'))\n",
        "if(num%2 == 0):\n",
        "  print('O número é par')\n",
        "else:\n",
        "  print('O número é ímpar')"
      ],
      "metadata": {
        "id": "b-g12SgtuSYk"
      },
      "execution_count": null,
      "outputs": []
    },
    {
      "cell_type": "code",
      "source": [
        "#Em um campeonato de MMA, tem três categorias por peso\n",
        "#galo até 70kg\n",
        "#médio até 80kg\n",
        "#meio pesado até 90kg\n",
        "peso = float(input('Digite o peso do atleta:'))\n",
        "if(peso <= 70):\n",
        "  print('Galo')\n",
        "elif(peso<= 80):\n",
        "    print('Medio')\n",
        "else:\n",
        "   print('Meio pesado')\n"
      ],
      "metadata": {
        "colab": {
          "base_uri": "https://localhost:8080/"
        },
        "id": "i59UQLaHyXEg",
        "outputId": "7854f4fe-b6ba-4f72-bee6-d9bd01fe1bea"
      },
      "execution_count": null,
      "outputs": [
        {
          "output_type": "stream",
          "name": "stdout",
          "text": [
            "Digite o peso do atleta:68\n",
            "Galo\n"
          ]
        }
      ]
    },
    {
      "cell_type": "code",
      "source": [
        "#Refaça o exemplo do IMC para as seguintes Regras:\n",
        "#Menor que 18,5 ----- Abaixo do peso normal\n",
        "#18,5-----------------24,9 Peso normal\n",
        "#25,0-----------------29,9 Excesso de peso\n",
        "#30,0-----------------34,9 Obesidade classe I\n",
        "#35,0-----------------39,9 Obesidade classe II\n",
        "#Maior ou igual a 40,0-Obesidade classe III\n",
        "\n",
        "peso = float(input('Digite o seu peso'))\n",
        "print(peso)\n",
        "\n",
        "altura = float(input('Digite a sua altura'))\n",
        "print(altura)\n",
        "\n",
        "imc = peso/altura**2\n",
        "print('O IMC é:', imc)\n",
        "\n",
        "if(imc < 18,5):\n",
        "  print('Abaixo do peso normal')\n",
        "elif(imc < 24,9 ):\n",
        "  print('Peso normal')\n",
        "elif(imc < 29,9):\n",
        "  print('Excesso de peso')\n",
        "elif(imc < 34,9):\n",
        "  print('Obesidade classe I')\n",
        "elif(imc < 39,9):\n",
        "  print('Obesidade classe II')\n",
        "else:\n",
        "  print('Obesidade classe III')"
      ],
      "metadata": {
        "id": "H9sP_Ypl3TVs"
      },
      "execution_count": null,
      "outputs": []
    },
    {
      "cell_type": "code",
      "source": [],
      "metadata": {
        "id": "5LUdhISR84Ji"
      },
      "execution_count": null,
      "outputs": []
    }
  ]
}